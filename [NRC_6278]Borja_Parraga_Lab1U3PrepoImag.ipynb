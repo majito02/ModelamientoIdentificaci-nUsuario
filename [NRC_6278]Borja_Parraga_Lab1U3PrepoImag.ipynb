{
 "cells": [
  {
   "cell_type": "code",
   "execution_count": 1,
   "id": "f170be3f",
   "metadata": {},
   "outputs": [
    {
     "name": "stdout",
     "output_type": "stream",
     "text": [
      "Loaded all libraries\n"
     ]
    }
   ],
   "source": [
    "import cv2\n",
    "#Libreria Numpy\n",
    "import numpy as np\n",
    "#Libreria de opciones de sistema\n",
    "import os\n",
    "#Dar importancia de mensajes\n",
    "os.environ['TF_CPP_MIN_LOG_LEVEL'] = '3' \n",
    "import shutil\n",
    "import glob\n",
    "#Importar pandas\n",
    "import pandas as pd\n",
    "#Importar librerias graficas\n",
    "import matplotlib.pyplot as plt\n",
    "from  PIL  import Image\n",
    "#Importar librerias de analisis\n",
    "import seaborn as sn\n",
    "from keras.preprocessing.image import ImageDataGenerator\n",
    "from tensorflow.keras.utils import array_to_img, img_to_array, load_img\n",
    "from rembg import remove\n",
    "from sklearn.preprocessing import MinMaxScaler\n",
    "import h5py\n",
    "#Importar libreria de tiempo\n",
    "from time import sleep\n",
    "#Importo libreria para divirvir el set\n",
    "from sklearn.model_selection import train_test_split\n",
    "import tensorflow as tf\n",
    "from tensorflow import keras\n",
    "import os\n",
    "import cv2\n",
    "import numpy as np\n",
    "from PIL import Image\n",
    "import matplotlib.pyplot as plt\n",
    "from sklearn.model_selection import train_test_split\n",
    "\n",
    "from tensorflow import keras\n",
    "from keras.models import Sequential\n",
    "from keras.layers import Conv2D,MaxPooling2D,Dense,Flatten,Dropout\n",
    "from tensorflow.keras.layers import BatchNormalization\n",
    "\n",
    "print(\"Loaded all libraries\")"
   ]
  },
  {
   "cell_type": "code",
   "execution_count": 2,
   "id": "70535703",
   "metadata": {},
   "outputs": [
    {
     "name": "stdout",
     "output_type": "stream",
     "text": [
      "C:\\Users\\Usuario\\Desktop\\ProyectoMajo\\TallerMariaJose\n",
      "['CevallosJoan', 'GenesisHeredia', 'LeonardoBorja', 'LucioCarlos', 'ParragaMariaJose']\n"
     ]
    }
   ],
   "source": [
    "#Ruta de origen de .ipynb\n",
    "root_path = os.path.abspath('.')\n",
    "print(root_path)\n",
    "#Obtener ruta de carpeta con imagenes\n",
    "images_path =root_path+\"/Clases\"\n",
    "#Enlistar carpetas de imagenes\n",
    "class_names = os.listdir(images_path)\n",
    "#Clasificar carpetas\n",
    "class_names.sort()\n",
    "print(class_names)"
   ]
  },
  {
   "cell_type": "code",
   "execution_count": 3,
   "id": "029d4b90",
   "metadata": {},
   "outputs": [
    {
     "name": "stdout",
     "output_type": "stream",
     "text": [
      "Copying Image - L00376416_1.jpg in Clases_Dataset_Augmented/CevallosJoan\n",
      "Copying Image - L00376416_2.jpg in Clases_Dataset_Augmented/CevallosJoan\n",
      "Copying Image - L00376416_3.jpg in Clases_Dataset_Augmented/CevallosJoan\n",
      "Copying Image - L00392991_1.jpg in Clases_Dataset_Augmented/GenesisHeredia\n",
      "Copying Image - L00392991_2.jpg in Clases_Dataset_Augmented/GenesisHeredia\n",
      "Copying Image - L00392991_3.jpg in Clases_Dataset_Augmented/GenesisHeredia\n",
      "Copying Image - L00393007_1.jpg in Clases_Dataset_Augmented/LeonardoBorja\n",
      "Copying Image - L00393007_2.jpg in Clases_Dataset_Augmented/LeonardoBorja\n",
      "Copying Image - L00393007_3.jpg in Clases_Dataset_Augmented/LeonardoBorja\n",
      "Copying Image - L00393009_1.jpg in Clases_Dataset_Augmented/LucioCarlos\n",
      "Copying Image - L00393009_2.jpg in Clases_Dataset_Augmented/LucioCarlos\n",
      "Copying Image - L00393009_3.jpg in Clases_Dataset_Augmented/LucioCarlos\n",
      "Copying Image - L00392984_1.jpg in Clases_Dataset_Augmented/ParragaMariaJose\n",
      "Copying Image - L00392984_2.jpg in Clases_Dataset_Augmented/ParragaMariaJose\n",
      "Copying Image - L00392984_3.jpg in Clases_Dataset_Augmented/ParragaMariaJose\n"
     ]
    }
   ],
   "source": [
    "#copiar las bananas\n",
    "#Ruta de imagnes aumentadas\n",
    "banana_path= root_path+\"/Clases_Dataset_Augmented\"\n",
    "#Iteracion por cada clase\n",
    "for class_name in class_names:\n",
    "    #Formacion de ruta de clase\n",
    "    cur_path = images_path + \"/\" + class_name\n",
    "    #Creacion de ruta de lementos\n",
    "    elements = os.listdir(cur_path)\n",
    "    #Creacion de ruta de archivos aumentados\n",
    "    os.makedirs(banana_path+\"/\"+ class_name, exist_ok=True)\n",
    "    \n",
    "    for element in elements:\n",
    "        print(\"Copying Image - {} in Clases_Dataset_Augmented/{}\".format(element, class_name))\n",
    "        src = os.path.join(images_path + \"/\" + class_name, element) # origen\n",
    "        dst = os.path.join(banana_path+\"/\" + class_name, element) \n",
    "        shutil.copy(src, dst)"
   ]
  },
  {
   "cell_type": "markdown",
   "id": "c93dee8c",
   "metadata": {},
   "source": [
    "## Aumento de Datos"
   ]
  },
  {
   "cell_type": "code",
   "execution_count": 4,
   "id": "016dea2a",
   "metadata": {},
   "outputs": [],
   "source": [
    "#Crear generador de datos de imagen\n",
    "datagen = ImageDataGenerator(\n",
    "        rotation_range=40,\n",
    "        width_shift_range=0.2,\n",
    "        height_shift_range=0.2,\n",
    "        rescale=1./255,\n",
    "        shear_range=0.2,\n",
    "        zoom_range=0.4,\n",
    "        horizontal_flip=True,\n",
    "        fill_mode='nearest')"
   ]
  },
  {
   "cell_type": "markdown",
   "id": "7ce1595d",
   "metadata": {},
   "source": [
    "## Clase BarraganSteven"
   ]
  },
  {
   "cell_type": "code",
   "execution_count": null,
   "id": "e8d79e34",
   "metadata": {},
   "outputs": [],
   "source": [
    "#Cambiar de direccion a imagenes verde\n",
    "os.chdir(banana_path+\"/CevallosJoan\")\n",
    "#Leer imagenes\n",
    "for path in os.listdir():\n",
    "    img = load_img(f\"{path}\")\n",
    "    x = img_to_array(img)    # Esto es un arreglo Numpy array con dimension (3, 150, 150)\n",
    "    x = x.reshape((1,) + x.shape)\n",
    "    i = 0\n",
    "    #Crear imagenes con formato jpg\n",
    "    for batch in datagen.flow(x, batch_size=1,\n",
    "            save_to_dir=\".\", \n",
    "            save_prefix= 'CevallosJoan', \n",
    "            save_format='jpg'):\n",
    "        i += 1\n",
    "        if i == 10:     ## crear 10 imagenes de 1 imagen \n",
    "            break  "
   ]
  },
  {
   "cell_type": "markdown",
   "id": "260fa14b",
   "metadata": {},
   "source": [
    "## Clase LeonardoBorja"
   ]
  },
  {
   "cell_type": "code",
   "execution_count": null,
   "id": "5bbece29",
   "metadata": {},
   "outputs": [],
   "source": [
    "#Cambiar de direccion a imagenes amarrillo y verde\n",
    "os.chdir(banana_path+\"/LeonardoBorja\")\n",
    "#Leer imagenes\n",
    "for path in os.listdir():\n",
    "    img = load_img(f\"{path}\")\n",
    "    x = img_to_array(img)   # Esto es un arreglo Numpy array con dimension (3, 150, 150)\n",
    "    x = x.reshape((1,) + x.shape)\n",
    "    i = 0\n",
    "    #Crear imagenes con formato jpg\n",
    "    for batch in datagen.flow(x, batch_size=1,\n",
    "            save_to_dir=\".\",  \n",
    "            save_prefix= 'LeonardoBorja', \n",
    "            save_format='jpg'):\n",
    "        i += 1\n",
    "        if i == 10:     ## crear 10 imagenes de 1 imagen \n",
    "            break  "
   ]
  },
  {
   "cell_type": "markdown",
   "id": "35a4eb95",
   "metadata": {},
   "source": [
    "## Clase GenesisHeredia"
   ]
  },
  {
   "cell_type": "code",
   "execution_count": null,
   "id": "b99204c9",
   "metadata": {},
   "outputs": [],
   "source": [
    "#Cambiar de direccion a imagenes amarrillo y marron\n",
    "os.chdir(banana_path+\"/GenesisHeredia\")\n",
    "#Leer imagenes\n",
    "for path in os.listdir():\n",
    "    img = load_img(f\"{path}\")\n",
    "    x = img_to_array(img)    # Esto es un arreglo Numpy array con dimension (3, 150, 150)\n",
    "    x = x.reshape((1,) + x.shape)\n",
    "    i = 0\n",
    "    #Crear imagenes con formato jpg    \n",
    "    for batch in datagen.flow(x, batch_size=1,\n",
    "            save_to_dir=\".\",   \n",
    "            save_prefix= 'GenesisHeredia', \n",
    "            save_format='jpg'):\n",
    "        i += 1\n",
    "        if i == 10:     ## crear 10 imagenes de 1 imagen \n",
    "            break "
   ]
  },
  {
   "cell_type": "markdown",
   "id": "fde62627",
   "metadata": {},
   "source": [
    "## Clase LucioCarlos"
   ]
  },
  {
   "cell_type": "code",
   "execution_count": null,
   "id": "cd5c5814",
   "metadata": {},
   "outputs": [],
   "source": [
    "#Cambiar de direccion a imagenes amarrillo y marron\n",
    "os.chdir(banana_path+\"/LucioCarlos\")\n",
    "#Leer imagenes\n",
    "for path in os.listdir():\n",
    "    img = load_img(f\"{path}\")\n",
    "    x = img_to_array(img)    # Esto es un arreglo Numpy array con dimension (3, 150, 150)\n",
    "    x = x.reshape((1,) + x.shape)\n",
    "    i = 0\n",
    "    #Crear imagenes con formato jpg    \n",
    "    for batch in datagen.flow(x, batch_size=1,\n",
    "            save_to_dir=\".\",   \n",
    "            save_prefix= 'LucioCarlos', \n",
    "            save_format='jpg'):\n",
    "        i += 1\n",
    "        if i == 10:     ## crear 10 imagenes de 1 imagen \n",
    "            break "
   ]
  },
  {
   "cell_type": "markdown",
   "id": "faa67882",
   "metadata": {},
   "source": [
    "## Clase ParragaMariaJose"
   ]
  },
  {
   "cell_type": "code",
   "execution_count": null,
   "id": "be536fda",
   "metadata": {},
   "outputs": [],
   "source": [
    "#Cambiar de direccion a imagenes amarrillo y marron\n",
    "os.chdir(banana_path+\"/ParragaMariaJose\")\n",
    "#Leer imagenes\n",
    "for path in os.listdir():\n",
    "    img = load_img(f\"{path}\")\n",
    "    x = img_to_array(img)    # Esto es un arreglo Numpy array con dimension (3, 150, 150)\n",
    "    x = x.reshape((1,) + x.shape)\n",
    "    i = 0\n",
    "    #Crear imagenes con formato jpg    \n",
    "    for batch in datagen.flow(x, batch_size=1,\n",
    "            save_to_dir=\".\",   \n",
    "            save_prefix= 'ParragaMariaJose', \n",
    "            save_format='jpg'):\n",
    "        i += 1\n",
    "        if i == 10:     ## crear 10 imagenes de 1 imagen \n",
    "            break "
   ]
  },
  {
   "cell_type": "markdown",
   "id": "94a79682",
   "metadata": {},
   "source": [
    "## Filtro NLM para eliminación de ruido de imágenes"
   ]
  },
  {
   "cell_type": "code",
   "execution_count": null,
   "id": "3d5a5e10",
   "metadata": {},
   "outputs": [],
   "source": [
    "os.chdir(root_path)\n",
    "images_path = root_path+\"/Clases_Dataset_Augmented/\"\n",
    "class_names = os.listdir(images_path)\n",
    "class_names.sort()\n",
    "print(class_names)"
   ]
  },
  {
   "cell_type": "code",
   "execution_count": null,
   "id": "664430d6",
   "metadata": {},
   "outputs": [],
   "source": [
    "#Lectura de cada clase de imagen\n",
    "for class_name in class_names:\n",
    "    cur_path = images_path + \"/\" + class_name\n",
    "    cur_label = class_name\n",
    "    # Carpeta de modificados\n",
    "    file_path = root_path+\"/Class_Dataset_Denoised/\"+ cur_label\n",
    "    #Creacion de rcarpeta para archivos modificaos\n",
    "    os.makedirs(file_path, exist_ok=True)\n",
    "    i = 1\n",
    "    #Procesamiento de cada imeagen\n",
    "    for file in glob.glob(cur_path + \"/*\"):\n",
    "        print(\"Processing Image - {} in {}\".format(i, cur_label))\n",
    "        # lectura de ruta de imagen\n",
    "        image = cv2.imread(file)\n",
    "        # imagen filtrada\n",
    "        dst = cv2.fastNlMeansDenoisingColored(image,None,10,10,7,21)\n",
    "        b,g,r = cv2.split(dst)\n",
    "        rgb_dst = cv2.merge([r,g,b])\n",
    "        # guardar imagen\n",
    "        save_path = file_path\n",
    "        cv2.imwrite(os.path.join(save_path , cur_label + '_' + str(i) + '.jpg'),\n",
    "                    cv2.cvtColor(rgb_dst,cv2.COLOR_RGB2BGR))\n",
    "        # conteo de procesos\n",
    "        i += 1\n"
   ]
  }
 ],
 "metadata": {
  "kernelspec": {
   "display_name": "Python 3 (ipykernel)",
   "language": "python",
   "name": "python3"
  },
  "language_info": {
   "codemirror_mode": {
    "name": "ipython",
    "version": 3
   },
   "file_extension": ".py",
   "mimetype": "text/x-python",
   "name": "python",
   "nbconvert_exporter": "python",
   "pygments_lexer": "ipython3",
   "version": "3.9.12"
  }
 },
 "nbformat": 4,
 "nbformat_minor": 5
}
