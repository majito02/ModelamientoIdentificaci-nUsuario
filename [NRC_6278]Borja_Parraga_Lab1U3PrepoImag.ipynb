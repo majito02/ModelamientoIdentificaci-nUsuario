{
 "cells": [
  {
   "cell_type": "code",
   "execution_count": 2,
   "id": "f170be3f",
   "metadata": {},
   "outputs": [
    {
     "name": "stdout",
     "output_type": "stream",
     "text": [
      "Librerias cargadas\n"
     ]
    }
   ],
   "source": [
    "import cv2\n",
    "#Libreria Numpy\n",
    "import numpy as np\n",
    "#Libreria de opciones de sistema\n",
    "import os\n",
    "#Dar importancia de mensajes\n",
    "os.environ['TF_CPP_MIN_LOG_LEVEL'] = '3' \n",
    "import shutil\n",
    "import glob\n",
    "#Importar pandas\n",
    "import pandas as pd\n",
    "#Importar librerias graficas\n",
    "import matplotlib.pyplot as plt\n",
    "from  PIL  import Image\n",
    "#Importar librerias de analisis\n",
    "import seaborn as sn\n",
    "from keras.preprocessing.image import ImageDataGenerator\n",
    "from tensorflow.keras.utils import array_to_img, img_to_array, load_img\n",
    "from rembg import remove\n",
    "from sklearn.preprocessing import MinMaxScaler\n",
    "import h5py\n",
    "#Importar libreria de tiempo\n",
    "from time import sleep\n",
    "#Importo libreria para divirvir el set\n",
    "from sklearn.model_selection import train_test_split\n",
    "import tensorflow as tf\n",
    "from tensorflow import keras\n",
    "import os\n",
    "import cv2\n",
    "import numpy as np\n",
    "from PIL import Image\n",
    "import matplotlib.pyplot as plt\n",
    "from sklearn.model_selection import train_test_split\n",
    "\n",
    "from tensorflow import keras\n",
    "from keras.models import Sequential\n",
    "from keras.layers import Conv2D,MaxPooling2D,Dense,Flatten,Dropout\n",
    "from tensorflow.keras.layers import BatchNormalization\n",
    "\n",
    "print(\"Librerias cargadas\")"
   ]
  },
  {
   "cell_type": "code",
   "execution_count": 4,
   "id": "70535703",
   "metadata": {},
   "outputs": [
    {
     "name": "stdout",
     "output_type": "stream",
     "text": [
      "C:\\Users\\FABIOLA\n",
      "['CevallosJoan', 'GenesisHeredia', 'LeonardoBorja', 'LucioCarlos', 'ParragaMariaJose']\n"
     ]
    }
   ],
   "source": [
    "#Ruta de origen de .ipynb\n",
    "root_path = os.path.abspath('.')\n",
    "print(root_path)\n",
    "#Obtener ruta de carpeta con imagenes\n",
    "images_path =root_path+\"/Clases\"\n",
    "#Enlistar carpetas de imagenes\n",
    "class_names = os.listdir(images_path)\n",
    "#Clasificar carpetas\n",
    "class_names.sort()\n",
    "print(class_names)"
   ]
  },
  {
   "cell_type": "code",
   "execution_count": 5,
   "id": "029d4b90",
   "metadata": {},
   "outputs": [
    {
     "name": "stdout",
     "output_type": "stream",
     "text": [
      "Copying Image - L00376416_1.jpg in Clases_Dataset_Augmented/CevallosJoan\n",
      "Copying Image - L00376416_2.jpg in Clases_Dataset_Augmented/CevallosJoan\n",
      "Copying Image - L00376416_3.jpg in Clases_Dataset_Augmented/CevallosJoan\n",
      "Copying Image - L00392991_1.jpg in Clases_Dataset_Augmented/GenesisHeredia\n",
      "Copying Image - L00392991_2.jpg in Clases_Dataset_Augmented/GenesisHeredia\n",
      "Copying Image - L00392991_3.jpg in Clases_Dataset_Augmented/GenesisHeredia\n",
      "Copying Image - L00393007_1.jpg in Clases_Dataset_Augmented/LeonardoBorja\n",
      "Copying Image - L00393007_2.jpg in Clases_Dataset_Augmented/LeonardoBorja\n",
      "Copying Image - L00393007_3.jpg in Clases_Dataset_Augmented/LeonardoBorja\n",
      "Copying Image - L00393009_1.jpg in Clases_Dataset_Augmented/LucioCarlos\n",
      "Copying Image - L00393009_2.jpg in Clases_Dataset_Augmented/LucioCarlos\n",
      "Copying Image - L00393009_3.jpg in Clases_Dataset_Augmented/LucioCarlos\n",
      "Copying Image - L00392984_1.jpg in Clases_Dataset_Augmented/ParragaMariaJose\n",
      "Copying Image - L00392984_2.jpg in Clases_Dataset_Augmented/ParragaMariaJose\n",
      "Copying Image - L00392984_3.jpg in Clases_Dataset_Augmented/ParragaMariaJose\n"
     ]
    }
   ],
   "source": [
    "#copiar las imágenes\n",
    "#Ruta de imagenes aumentadas\n",
    "banana_path= root_path+\"/Clases_Dataset_Augmented\"\n",
    "#Iteracion por cada clase\n",
    "for class_name in class_names:\n",
    "    #Formacion de ruta de clase\n",
    "    cur_path = images_path + \"/\" + class_name\n",
    "    #Creacion de ruta de lementos\n",
    "    elements = os.listdir(cur_path)\n",
    "    #Creacion de ruta de archivos aumentados\n",
    "    os.makedirs(banana_path+\"/\"+ class_name, exist_ok=True)\n",
    "    \n",
    "    for element in elements:\n",
    "        print(\"Copying Image - {} in Clases_Dataset_Augmented/{}\".format(element, class_name))\n",
    "        src = os.path.join(images_path + \"/\" + class_name, element) # origen\n",
    "        dst = os.path.join(banana_path+\"/\" + class_name, element) \n",
    "        shutil.copy(src, dst)"
   ]
  }
 ],
 "metadata": {
  "kernelspec": {
   "display_name": "Python 3 (ipykernel)",
   "language": "python",
   "name": "python3"
  },
  "language_info": {
   "codemirror_mode": {
    "name": "ipython",
    "version": 3
   },
   "file_extension": ".py",
   "mimetype": "text/x-python",
   "name": "python",
   "nbconvert_exporter": "python",
   "pygments_lexer": "ipython3",
   "version": "3.9.12"
  }
 },
 "nbformat": 4,
 "nbformat_minor": 5
}
